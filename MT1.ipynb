{
 "cells": [
  {
   "cell_type": "markdown",
   "id": "550bb225",
   "metadata": {},
   "source": [
    "# Mid-Term 1\n",
    "\n",
    "Sina Hatami (S5447389)\n"
   ]
  },
  {
   "cell_type": "code",
   "execution_count": 1,
   "id": "346981bb",
   "metadata": {},
   "outputs": [],
   "source": [
    "import time\n",
    "import scipy\n",
    "import numpy as np\n",
    "import matplotlib.pyplot as plt\n"
   ]
  },
  {
   "cell_type": "code",
   "execution_count": 2,
   "id": "87f25291",
   "metadata": {},
   "outputs": [],
   "source": [
    "def load_dataset(name):\n",
    "    X, y = [], []\n",
    "    with open(\"{}\".format(name), 'r') as f:\n",
    "        for line in f.readlines():\n",
    "            splitted = line.split(\",\")\n",
    "            X.append(splitted[:-1])\n",
    "            y.append(splitted[-1])\n",
    "    X, y = np.asarray(X, dtype=np.float32), np.asarray(y, dtype=np.float32)\n",
    "    return X, y"
   ]
  },
  {
   "cell_type": "markdown",
   "id": "8e6ff506",
   "metadata": {},
   "source": [
    "### Prelude\n",
    "\n",
    "Load the following 7 datasets:\n",
    "\n",
    "- dataset 1: (X1, y1) with $X1 \\in \\mathbb{R}^{ 50 \\times 10}$ and noise variance $\\sigma = 0.1$\n",
    "- dataset 2: (X2, y2) with $X2 \\in \\mathbb{R}^{ 500 \\times 10}$ and noise variance $\\sigma = 0.1$\n",
    "- dataset 3: (X3, y3) with $X3 \\in \\mathbb{R}^{ 1000 \\times 10}$ and noise variance $\\sigma = 0.1$\n",
    "- dataset 4: (X4, y4) with $X4 \\in \\mathbb{R}^{ 500 \\times 500}$ and noise variance $\\sigma = 0.1$\n",
    "- dataset 5: (X5, y5) with $X5 \\in \\mathbb{R}^{ 500 \\times 5000}$ and noise variance $\\sigma = 0.1$\n",
    "- dataset 6: (X6, y6) with $X6 \\in \\mathbb{R}^{ 500 \\times 10000}$ and noise variance $\\sigma = 0.1$\n",
    "- dataset 7: (X7, y7) with $X7 \\in \\mathbb{R}^{ 500 \\times 1}$ and noise variance $\\sigma = 0.3$\n",
    "\n",
    "i.e. datasets from 1 to 3 have fixed input space dimension $d = 10$ and different number of points, while datasets from 4 to 6 have fixed number of points and different number of dimensions."
   ]
  },
  {
   "cell_type": "code",
   "execution_count": 13,
   "id": "257d4c36",
   "metadata": {},
   "outputs": [
    {
     "name": "stdout",
     "output_type": "stream",
     "text": [
      "(40, 10)\n"
     ]
    }
   ],
   "source": [
    "# Load dataset 1\n",
    "(Xtr_1, ytr_1), (Xte_1, yte_1) = load_dataset(\"./datasets/dataset_1_train\"), load_dataset(\"./datasets/dataset_1_test\")\n",
    "\n",
    "#Load dataset 2\n",
    "(Xtr_2, ytr_2), (Xte_2, yte_2) = load_dataset(\"./datasets/dataset_2_train\"), load_dataset(\"./datasets/dataset_2_test\")\n",
    "\n",
    "#Load dataset 3\n",
    "(Xtr_3, ytr_3), (Xte_3, yte_3) = load_dataset(\"./datasets/dataset_3_train\"), load_dataset(\"./datasets/dataset_3_test\")\n",
    "\n",
    "#Load dataset 4\n",
    "(Xtr_4, ytr_4), (Xte_4, yte_4) = load_dataset(\"./datasets/dataset_4_train\"), load_dataset(\"./datasets/dataset_4_test\")\n",
    "\n",
    "#Load dataset 5\n",
    "(Xtr_5, ytr_5), (Xte_5, yte_5) = load_dataset(\"./datasets/dataset_5_train\"), load_dataset(\"./datasets/dataset_5_test\")\n",
    "\n",
    "#Load datset 6\n",
    "(Xtr_6, ytr_6), (Xte_6, yte_6) = load_dataset(\"./datasets/dataset_6_train\"), load_dataset(\"./datasets/dataset_6_test\")\n",
    "\n",
    "#Load datset 7\n",
    "Xtr_7, ytr_7 = load_dataset(\"./datasets/dataset_7_train\")\n",
    "\n",
    "# SUGGESTION!!! Check the size of each dataset\n",
    "\n",
    "#Example\n",
    "print(np.shape(Xtr_1))\n"
   ]
  },
  {
   "cell_type": "markdown",
   "id": "ea07f7f4",
   "metadata": {},
   "source": [
    "Tips and tricks:\n",
    "- to estimate the computational time of a certain portion of code use the following\n",
    "    \n",
    "    `\n",
    "    t0 = time.time()\n",
    "    ... my code ...\n",
    "    mycode_time = time.time()-t0`"
   ]
  },
  {
   "cell_type": "code",
   "execution_count": 5,
   "id": "b40d4c80",
   "metadata": {},
   "outputs": [
    {
     "name": "stdout",
     "output_type": "stream",
     "text": [
      "[--] Dataset 3 loaded in 0.008126974105834961 seconds\n"
     ]
    }
   ],
   "source": [
    "# Example\n",
    "\n",
    "t0 = time.time()\n",
    "_ = load_dataset(\"./datasets/dataset_3_train\")\n",
    "DeltaT = time.time() - t0\n",
    "\n",
    "print(\"[--] Dataset 3 loaded in {} seconds\".format(DeltaT))"
   ]
  },
  {
   "cell_type": "markdown",
   "id": "f2644ce2",
   "metadata": {},
   "source": [
    "### Activity 1 \n",
    "\n",
    "Compare the behavior of K-NN and RLS on the datasets according to the following tasks:\n",
    "- Task 1.1: Compare training, validation, test errors and training and test time of the two methods on datasets 1, 2, 3\n",
    "- Task 1.2: Compare training, validation, test errors and training and test time of the two methods on datasets 4, 5, 6 \n",
    "\n",
    "\n"
   ]
  },
  {
   "cell_type": "code",
   "execution_count": null,
   "id": "20ac6c41",
   "metadata": {},
   "outputs": [],
   "source": [
    "Ks = list(range(1, 100, 10))\n",
    "lams = np.logspace(-9, 2, 10)\n",
    "KF = 5\n",
    "\n",
    "# TASK 1.1\n",
    "\n",
    "# cross validation of KNN for dataset 1\n",
    "\n",
    "...\n",
    "\n",
    "# cross validation of RLS for dataset 1\n",
    "\n",
    "...\n",
    "\n",
    "# train KNN with parameter obtained by KFold-Cross Validation and estimate computational time\n",
    "\n",
    "...\n",
    "\n",
    "# train RLS with parameter obtained by KFold-Cross Validation and estimate computational time\n",
    "\n",
    "...\n",
    "\n",
    "# cross validation of KNN for dataset 2\n",
    "\n",
    "...\n",
    "\n",
    "# cross validation of RLS for dataset 2\n",
    "\n",
    "...\n",
    "\n",
    "# train KNN with parameter obtained by KFold-Cross Validation and estimate computational time\n",
    "\n",
    "...\n",
    "\n",
    "# train RLS with parameter obtained by KFold-Cross Validation and estimate computational time\n",
    "\n",
    "...\n",
    "\n",
    "# cross validation of KNN for dataset 3\n",
    "\n",
    "...\n",
    "\n",
    "# cross validation of RLS for dataset 3\n",
    "\n",
    "...\n",
    "\n",
    "# train KNN with parameter obtained by KFold-Cross Validation and estimate computational time\n",
    "\n",
    "...\n",
    "\n",
    "# train RLS with parameter obtained by KFold-Cross Validation and estimate computational time\n",
    "\n",
    "...\n",
    "\n",
    "# TASK 1.2\n",
    "\n",
    "# cross validation of KNN for dataset 4\n",
    "\n",
    "...\n",
    "\n",
    "# cross validation of RLS for dataset 4\n",
    "\n",
    "...\n",
    "\n",
    "# train KNN with parameter obtained by KFold-Cross Validation and estimate computational time\n",
    "\n",
    "...\n",
    "\n",
    "# train RLS with parameter obtained by KFold-Cross Validation and estimate computational time\n",
    "\n",
    "...\n",
    "\n",
    "# cross validation of KNN for dataset 5\n",
    "\n",
    "...\n",
    "\n",
    "# cross validation of RLS for dataset 5\n",
    "\n",
    "...\n",
    "\n",
    "# train KNN with parameter obtained by KFold-Cross Validation and estimate computational time\n",
    "\n",
    "...\n",
    "\n",
    "# train RLS with parameter obtained by KFold-Cross Validation and estimate computational time\n",
    "\n",
    "...\n",
    "\n",
    "# cross validation of KNN for dataset 6\n",
    "\n",
    "...\n",
    "\n",
    "# cross validation of RLS for dataset 6\n",
    "\n",
    "...\n",
    "\n",
    "# train KNN with parameter obtained by KFold-Cross Validation and estimate computational time\n",
    "\n",
    "...\n",
    "\n",
    "# train RLS with parameter obtained by KFold-Cross Validation and estimate computational time\n",
    "\n",
    "...\n",
    "\n",
    "\n",
    "\n",
    "# Tips: to compare the methods, you should \n",
    "# - plot training and validation errors for the different hypeparameter values considered in the cross-validation procedure\n",
    "# - print in output the training, validation and test errors corresponding to the final model\n"
   ]
  },
  {
   "cell_type": "markdown",
   "id": "783e635e",
   "metadata": {},
   "source": [
    "What can you observe? **Describe here your observations:**\n",
    "\n",
    "\n",
    "\n",
    "\n"
   ]
  },
  {
   "cell_type": "markdown",
   "id": "61ba215c",
   "metadata": {},
   "source": [
    "### Acitivity 2\n",
    "\n",
    "Find your optimal solution for the dataset 7, we will evaluate the goodness of your model on the test set"
   ]
  },
  {
   "cell_type": "code",
   "execution_count": null,
   "id": "8cc99e6b",
   "metadata": {},
   "outputs": [],
   "source": [
    "fig, ax = plt.subplots()\n",
    "ax.plot(Xtr_7, ytr_7, 'o')\n",
    "ax.set_xlabel(\"X\", fontsize=16)\n",
    "ax.set_ylabel(\"y\", fontsize=16)"
   ]
  },
  {
   "cell_type": "code",
   "execution_count": null,
   "id": "fb534cf2",
   "metadata": {},
   "outputs": [],
   "source": [
    "# Insert your code here"
   ]
  }
 ],
 "metadata": {
  "kernelspec": {
   "display_name": "Python 3 (ipykernel)",
   "language": "python",
   "name": "python3"
  },
  "language_info": {
   "codemirror_mode": {
    "name": "ipython",
    "version": 3
   },
   "file_extension": ".py",
   "mimetype": "text/x-python",
   "name": "python",
   "nbconvert_exporter": "python",
   "pygments_lexer": "ipython3",
   "version": "3.9.13"
  }
 },
 "nbformat": 4,
 "nbformat_minor": 5
}
